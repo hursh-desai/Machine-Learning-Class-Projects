{
 "cells": [
  {
   "cell_type": "markdown",
   "metadata": {},
   "source": [
    "## Neural Network Assignment: Image Classification on MNIST\n",
    "In this assignment, you will design and implement first a multi-layer perceptron model and then a convolutional network model in Pytorch. We will use the CIFAR-10 image dataset. Please complete the rest of the notebook by doing the following tasks.\n",
    "\n",
    "- Build your network (A MLP model and a CONVNET model). \n",
    "- Train your network. \n",
    "- Describe your training procedure. Plot the following:\n",
    "    1. Training and validation loss vs. training iterations.\n",
    "    2. Training and validation accuracy vs. training iterations.\n",
    "- Report a final test result on 10000 separate testing examples.\n",
    "- Give detailed explanation of your code\n",
    "\n",
    "You can follow the skeleton code in the notebook to proceed. Look for the ##TODO## mark, that's where you should write your code. \n",
    "\n",
    "Check Pytorch documentation for reference: https://pytorch.org/tutorials/"
   ]
  },
  {
   "cell_type": "markdown",
   "metadata": {},
   "source": [
    "## 1.1 Download data\n",
    "From this website: https://www.cs.toronto.edu/~kriz/cifar.html\n",
    "Download the CIFAR-10 python version, which is 163 MB. \n",
    "Extract the file you downloaded, you should be able to see a folder named cifar-10-batches-py. The data files are inside. ('data_batch_1', 'data_batch_2', etc..). To make things easier put these data files in a new folder called 'cifar-10-data'. The folder 'cifar-10-data' should be in the same directory as your jupyter notebook. Now we load the data into memory. "
   ]
  },
  {
   "cell_type": "markdown",
   "metadata": {},
   "source": [
    "## 1.2 Loading Data: you should read the website's data description and have a better understanding of the data (quote):\n",
    "Loaded in this way, each of the batch files contains a dictionary with the following elements:\n",
    "data -- a 10000x3072 numpy array of uint8s. Each row of the array stores a 32x32 colour image. The first 1024 entries contain the red channel values, the next 1024 the green, and the final 1024 the blue. The image is stored in row-major order, so that the first 32 entries of the array are the red channel values of the first row of the image.\n",
    "labels -- a list of 10000 numbers in the range 0-9. The number at index i indicates the label of the ith image in the array data.\n",
    "\n",
    "The dataset contains another file, called batches.meta. It too contains a Python dictionary object. It has the following entries:\n",
    "label_names -- a 10-element list which gives meaningful names to the numeric labels in the labels array described above. For example, label_names[0] == \"airplane\", label_names[1] == \"automobile\", etc.\n"
   ]
  },
  {
   "cell_type": "code",
   "execution_count": 42,
   "metadata": {},
   "outputs": [],
   "source": [
    "import numpy as np\n",
    "import torch\n",
    "import torch.nn as nn\n",
    "import torch.optim as optim\n",
    "import torch.nn.functional as F"
   ]
  },
  {
   "cell_type": "code",
   "execution_count": 43,
   "metadata": {},
   "outputs": [],
   "source": [
    "## follow the instructions on the website\n",
    "def unpickle(file):\n",
    "    ## used to read binary files since our data files are in binary format\n",
    "    import pickle\n",
    "    with open(file, 'rb') as fo:\n",
    "        dict = pickle.load(fo, encoding='bytes')\n",
    "    return dict"
   ]
  },
  {
   "cell_type": "code",
   "execution_count": 44,
   "metadata": {},
   "outputs": [],
   "source": [
    "## loading data from binary data files\n",
    "batch_1_dictionary = unpickle('cifar-10-data/data_batch_1')\n",
    "batch_2_dictionary = unpickle('cifar-10-data/data_batch_2')"
   ]
  },
  {
   "cell_type": "code",
   "execution_count": 45,
   "metadata": {},
   "outputs": [
    {
     "data": {
      "text/plain": [
       "dict_keys([b'batch_label', b'labels', b'data', b'filenames'])"
      ]
     },
     "execution_count": 45,
     "metadata": {},
     "output_type": "execute_result"
    }
   ],
   "source": [
    "batch_1_dictionary.keys()"
   ]
  },
  {
   "cell_type": "code",
   "execution_count": 46,
   "metadata": {},
   "outputs": [],
   "source": [
    "## get training, validation and testing sets\n",
    "X_train_all = np.array(batch_1_dictionary[b'data']).reshape(10000,3,32,32)\n",
    "y_train_all = np.array(batch_1_dictionary[b'labels'])\n",
    "validation_count = 1000\n",
    "train_count = X_train_all.shape[0]-1000\n",
    "X_train = X_train_all[:train_count]\n",
    "y_train = y_train_all[:train_count]\n",
    "X_val = X_train_all[train_count:]\n",
    "y_val = y_train_all[train_count:]\n",
    "X_test = np.array(batch_2_dictionary[b'data']).reshape(10000,3,32,32)\n",
    "y_test = np.array(batch_2_dictionary[b'labels'])"
   ]
  },
  {
   "cell_type": "code",
   "execution_count": 47,
   "metadata": {},
   "outputs": [
    {
     "data": {
      "text/plain": [
       "((9000, 3, 32, 32),\n",
       " (9000,),\n",
       " (1000, 3, 32, 32),\n",
       " (1000,),\n",
       " (10000, 3, 32, 32),\n",
       " (10000,))"
      ]
     },
     "execution_count": 47,
     "metadata": {},
     "output_type": "execute_result"
    }
   ],
   "source": [
    "X_train.shape, y_train.shape, X_val.shape, y_val.shape, X_test.shape, y_test.shape"
   ]
  },
  {
   "cell_type": "markdown",
   "metadata": {},
   "source": [
    "## 1.3 Preprocess Data\n",
    "Typically public datasets have some kind of data description or manual that we can use to gain basic understanding of the dataset. You should always try to look for such things and utilize them before you start processing the data. We now want to preprocess the data. \n",
    "\n",
    "We now want to do a data normalization. (Do you still remember why data normalization is important? Refer to Normalizing Input in first week of Improving Deep Neural Networks: Hyperparameter tuning, Regularization and Optimization)\n",
    "You can typically just do the minus by mean and divide by std normalization. But since we are dealing with image data, we can use another type of data normalization: simply divide by 255 to bring all features to the range (0,1).  (Think about why the number 255?) There are different ways to normalize data, feel free to try more options if you are interested. "
   ]
  },
  {
   "cell_type": "code",
   "execution_count": 48,
   "metadata": {},
   "outputs": [],
   "source": [
    "# for RGB data we can simply divide by 255\n",
    "X_train_normalized = X_train/255\n",
    "X_val_normalized = X_val/255\n",
    "X_test_normalized = X_test/255"
   ]
  },
  {
   "cell_type": "markdown",
   "metadata": {},
   "source": [
    "## 1.4 Take a look at the data\n",
    "We can plot the image data to have a better understanding of it."
   ]
  },
  {
   "cell_type": "code",
   "execution_count": 49,
   "metadata": {},
   "outputs": [],
   "source": [
    "## class label related\n",
    "CLASSES = ['plane', 'car', 'bird', 'cat', 'deer', 'dog', 'frog', 'horse', 'ship', 'truck']\n",
    "\n",
    "def index_to_class_name(y):\n",
    "    return CLASSES[y]\n",
    "def class_name_to_index(class_name):\n",
    "    return CLASSES.index(class_name)"
   ]
  },
  {
   "cell_type": "code",
   "execution_count": 50,
   "metadata": {},
   "outputs": [],
   "source": [
    "import math\n",
    "import matplotlib.pyplot as plt\n",
    "import matplotlib.image as mpimg\n",
    "\"\"\"\n",
    "Plotting utilities, if you want to know how these work exactly, check the reference\n",
    "Or the documentations\n",
    "reference: \n",
    "https://matplotlib.org/users/image_tutorial.html\n",
    "https://stackoverflow.com/questions/46615554/how-to-display-multiple-images-in-one-figure-correctly/46616645\n",
    "\"\"\" \n",
    "\n",
    "def show_single_image(data):\n",
    "    # show a single image\n",
    "    ## note that using matplotlib plotting function, we will have to reshape the data as (1,32,32,3)\n",
    "    img = data.reshape(3,32,32).transpose(1,2,0)\n",
    "    imgplot = plt.imshow(img)\n",
    "def show_multiple_images(data, data_y, n_show=12, columns=4):\n",
    "    ## given an array of data, show all of them as images\n",
    "    fig=plt.figure(figsize=(8, 8))\n",
    "    n = min(data.shape[0], n_show)\n",
    "    rows = math.ceil(n/columns)\n",
    "    for i in range(n):\n",
    "        img = data[i].reshape(3,32,32).transpose(1,2,0)\n",
    "        print((img.shape))\n",
    "        ax = fig.add_subplot(rows, columns, i+1) ## subplot index starts from 1 not 0\n",
    "        class_name = index_to_class_name(data_y[i])\n",
    "        ax.set_title(str(data_y[i])+\": \"+class_name)\n",
    "        plt.imshow(img)\n",
    "    plt.show()"
   ]
  },
  {
   "cell_type": "code",
   "execution_count": 51,
   "metadata": {},
   "outputs": [
    {
     "data": {
      "text/plain": [
       "(9000, 3, 32, 32)"
      ]
     },
     "execution_count": 51,
     "metadata": {},
     "output_type": "execute_result"
    }
   ],
   "source": [
    "X_train.shape"
   ]
  },
  {
   "cell_type": "code",
   "execution_count": 52,
   "metadata": {},
   "outputs": [
    {
     "name": "stdout",
     "output_type": "stream",
     "text": [
      "(32, 32, 3)\n",
      "(32, 32, 3)\n",
      "(32, 32, 3)\n",
      "(32, 32, 3)\n",
      "(32, 32, 3)\n",
      "(32, 32, 3)\n",
      "(32, 32, 3)\n",
      "(32, 32, 3)\n",
      "(32, 32, 3)\n",
      "(32, 32, 3)\n",
      "(32, 32, 3)\n",
      "(32, 32, 3)\n"
     ]
    },
    {
     "data": {
      "image/png": "[encoded data removed]",
      "text/plain": [
       "<Figure size 576x576 with 12 Axes>"
      ]
     },
     "metadata": {
      "needs_background": "light"
     },
     "output_type": "display_data"
    }
   ],
   "source": [
    "show_multiple_images(X_train, y_train)"
   ]
  },
  {
   "cell_type": "markdown",
   "metadata": {},
   "source": [
    "## 2.1 Design Network Structure of a MLP Model\n",
    "Reference: https://pytorch.org/tutorials/beginner/blitz/neural_networks_tutorial.html\n",
    "\n",
    "When we use a multi-layer perceptron (a very basic neural net with fully connected layers), we will need to flatten the data so that the MLP can use it. Each data point in our training data is currently in the form of 1x32x32x3, we want to convert it into 1x3072, so that its shape makes sense to our MLP's input layer. Recall that in our MLP, the input size for the first layer is 3072. There are multiple ways of doing this, we can directly flatten all data points, or we can also do the flattening for each mini-batch. \n",
    "\n",
    "In terms of the loss function, since we are doing the task of multi-class classification, we will use the cross entropy loss. \n",
    "We will use nn.CrossEntropyLoss to compute this, refer to Pytorch doc for details. A short summary is \"this criterion combines nn.LogSoftmax() and nn.NLLLoss() in one single class\" That basically means we don't have to worry about softmax layer and the log part. Make sure you read the Pytorch doc to understand exactly how it works. "
   ]
  },
  {
   "cell_type": "code",
   "execution_count": 34,
   "metadata": {},
   "outputs": [],
   "source": [
    "import torch\n",
    "import torch.nn as nn\n",
    "import torch.nn.functional as F\n",
    "from torch import Tensor\n",
    "import torch.optim as optim\n",
    "\n",
    "class MLP(nn.Module):\n",
    "    ## a very simple MLP model\n",
    "    def __init__(self, input_dim, output_dim):\n",
    "        super(MLP, self).__init__()\n",
    "        self.fc1 = nn.Linear(input_dim, 128)\n",
    "        self.fc2 = nn.Linear(128, 128)\n",
    "        self.fc3 = nn.Linear(128, output_dim)\n",
    "        \n",
    "    def forward(self, x):\n",
    "        x = F.relu(self.fc1(x))\n",
    "        x = F.relu(self.fc2(x))\n",
    "        x = self.fc3(x)\n",
    "        return x"
   ]
  },
  {
   "cell_type": "code",
   "execution_count": 35,
   "metadata": {},
   "outputs": [],
   "source": [
    "# utility for getting prediction accuracy\n",
    "def get_correct_and_accuracy(y_pred, y):\n",
    "    # y_pred is the nxC prediction scores\n",
    "    # give the number of correct and the accuracy\n",
    "    n = y.shape[0]\n",
    "    # find the prediction class label\n",
    "    _ ,pred_class = y_pred.max(dim=1)\n",
    "    correct = (pred_class == y).sum().item()\n",
    "    return correct ,correct/n"
   ]
  },
  {
   "cell_type": "markdown",
   "metadata": {},
   "source": [
    "## 2.2 Training the MLP model\n",
    "1. We first initialize the neural network, and also the optimizer and the criterion (loss function)\n",
    "2. We then convert data into correct tensor form (note for MLP we need to flatten the image data, from 3x32x32 to 3072)\n",
    "3. We then start doing training iterations"
   ]
  },
  {
   "cell_type": "code",
   "execution_count": 36,
   "metadata": {
    "scrolled": true
   },
   "outputs": [
    {
     "name": "stdout",
     "output_type": "stream",
     "text": [
      "model structure:  MLP(\n",
      "  (fc1): Linear(in_features=3072, out_features=128, bias=True)\n",
      "  (fc2): Linear(in_features=128, out_features=128, bias=True)\n",
      "  (fc3): Linear(in_features=128, out_features=10, bias=True)\n",
      ")\n"
     ]
    }
   ],
   "source": [
    "# init network\n",
    "mlp = MLP(3072, 10)\n",
    "print('model structure: ',mlp)\n",
    "# init optimizer\n",
    "optimizer = optim.Adam(mlp.parameters(), lr=1e-3)\n",
    "# set loss function\n",
    "criterion = nn.CrossEntropyLoss()\n",
    "\n",
    "# prepare for mini-batch stochastic gradient descent\n",
    "n_iteration = 100\n",
    "batch_size = 256\n",
    "n_train_data = X_train_normalized.shape[0]\n",
    "n_batch = int(np.ceil(n_train_data/batch_size))\n",
    "\n",
    "# convert X_train and X_val to tensor and flatten them\n",
    "X_train_tensor = Tensor(X_train_normalized).reshape(-1, 3072)\n",
    "X_val_tensor = Tensor(X_val_normalized).reshape(-1, 3072)\n",
    "\n",
    "# convert training label to tensor and to type long\n",
    "y_train_tensor = Tensor(y_train).long()\n",
    "y_val_tensor = Tensor(y_val).long()"
   ]
  },
  {
   "cell_type": "code",
   "execution_count": 37,
   "metadata": {
    "scrolled": true
   },
   "outputs": [
    {
     "name": "stdout",
     "output_type": "stream",
     "text": [
      "Iter 0 ,Train loss: 2.151, Train acc: 0.200, Val loss: 2.013, Val acc: 0.228\n",
      "Iter 1 ,Train loss: 1.961, Train acc: 0.290, Val loss: 1.923, Val acc: 0.290\n",
      "Iter 2 ,Train loss: 1.872, Train acc: 0.329, Val loss: 1.856, Val acc: 0.320\n",
      "Iter 3 ,Train loss: 1.807, Train acc: 0.353, Val loss: 1.815, Val acc: 0.353\n",
      "Iter 4 ,Train loss: 1.753, Train acc: 0.372, Val loss: 1.778, Val acc: 0.370\n",
      "Iter 5 ,Train loss: 1.708, Train acc: 0.387, Val loss: 1.755, Val acc: 0.381\n",
      "Iter 6 ,Train loss: 1.671, Train acc: 0.400, Val loss: 1.733, Val acc: 0.395\n",
      "Iter 7 ,Train loss: 1.641, Train acc: 0.412, Val loss: 1.711, Val acc: 0.399\n",
      "Iter 8 ,Train loss: 1.613, Train acc: 0.426, Val loss: 1.694, Val acc: 0.391\n",
      "Iter 9 ,Train loss: 1.590, Train acc: 0.431, Val loss: 1.684, Val acc: 0.392\n",
      "Iter 10 ,Train loss: 1.569, Train acc: 0.440, Val loss: 1.666, Val acc: 0.407\n",
      "Iter 11 ,Train loss: 1.556, Train acc: 0.443, Val loss: 1.660, Val acc: 0.403\n",
      "Iter 12 ,Train loss: 1.529, Train acc: 0.452, Val loss: 1.649, Val acc: 0.410\n",
      "Iter 13 ,Train loss: 1.502, Train acc: 0.465, Val loss: 1.637, Val acc: 0.410\n",
      "Iter 14 ,Train loss: 1.483, Train acc: 0.475, Val loss: 1.634, Val acc: 0.410\n",
      "Iter 15 ,Train loss: 1.458, Train acc: 0.482, Val loss: 1.623, Val acc: 0.409\n",
      "Iter 16 ,Train loss: 1.442, Train acc: 0.485, Val loss: 1.621, Val acc: 0.410\n",
      "Iter 17 ,Train loss: 1.423, Train acc: 0.496, Val loss: 1.620, Val acc: 0.403\n",
      "Iter 18 ,Train loss: 1.409, Train acc: 0.499, Val loss: 1.620, Val acc: 0.416\n",
      "Iter 19 ,Train loss: 1.388, Train acc: 0.507, Val loss: 1.626, Val acc: 0.415\n",
      "Iter 20 ,Train loss: 1.373, Train acc: 0.512, Val loss: 1.617, Val acc: 0.423\n",
      "Iter 21 ,Train loss: 1.357, Train acc: 0.517, Val loss: 1.627, Val acc: 0.422\n",
      "Iter 22 ,Train loss: 1.339, Train acc: 0.522, Val loss: 1.636, Val acc: 0.426\n",
      "Iter 23 ,Train loss: 1.327, Train acc: 0.525, Val loss: 1.634, Val acc: 0.422\n",
      "Iter 24 ,Train loss: 1.316, Train acc: 0.533, Val loss: 1.619, Val acc: 0.426\n"
     ]
    },
    {
     "ename": "KeyboardInterrupt",
     "evalue": "",
     "output_type": "error",
     "traceback": [
      "\u001b[1;31m---------------------------------------------------------------------------\u001b[0m",
      "\u001b[1;31mKeyboardInterrupt\u001b[0m                         Traceback (most recent call last)",
      "\u001b[1;32m<ipython-input-37-bad22d45a57f>\u001b[0m in \u001b[0;36m<module>\u001b[1;34m\u001b[0m\n\u001b[0;32m     25\u001b[0m         \u001b[0mtrain_loss\u001b[0m\u001b[1;33m.\u001b[0m\u001b[0mbackward\u001b[0m\u001b[1;33m(\u001b[0m\u001b[1;33m)\u001b[0m\u001b[1;33m\u001b[0m\u001b[1;33m\u001b[0m\u001b[0m\n\u001b[0;32m     26\u001b[0m         \u001b[1;31m# take a gradient step\u001b[0m\u001b[1;33m\u001b[0m\u001b[1;33m\u001b[0m\u001b[1;33m\u001b[0m\u001b[0m\n\u001b[1;32m---> 27\u001b[1;33m         \u001b[0moptimizer\u001b[0m\u001b[1;33m.\u001b[0m\u001b[0mstep\u001b[0m\u001b[1;33m(\u001b[0m\u001b[1;33m)\u001b[0m\u001b[1;33m\u001b[0m\u001b[1;33m\u001b[0m\u001b[0m\n\u001b[0m\u001b[0;32m     28\u001b[0m \u001b[1;33m\u001b[0m\u001b[0m\n\u001b[0;32m     29\u001b[0m         \u001b[0mtrain_correct_batch\u001b[0m\u001b[1;33m,\u001b[0m \u001b[0m_\u001b[0m \u001b[1;33m=\u001b[0m \u001b[0mget_correct_and_accuracy\u001b[0m\u001b[1;33m(\u001b[0m\u001b[0my_pred_batch\u001b[0m\u001b[1;33m,\u001b[0m \u001b[0my_batch\u001b[0m\u001b[1;33m)\u001b[0m\u001b[1;33m\u001b[0m\u001b[1;33m\u001b[0m\u001b[0m\n",
      "\u001b[1;32mc:\\users\\hd626\\appdata\\local\\programs\\python\\python37\\lib\\site-packages\\torch\\optim\\adam.py\u001b[0m in \u001b[0;36mstep\u001b[1;34m(self, closure)\u001b[0m\n\u001b[0;32m     91\u001b[0m \u001b[1;33m\u001b[0m\u001b[0m\n\u001b[0;32m     92\u001b[0m                 \u001b[1;31m# Decay the first and second moment running average coefficient\u001b[0m\u001b[1;33m\u001b[0m\u001b[1;33m\u001b[0m\u001b[1;33m\u001b[0m\u001b[0m\n\u001b[1;32m---> 93\u001b[1;33m                 \u001b[0mexp_avg\u001b[0m\u001b[1;33m.\u001b[0m\u001b[0mmul_\u001b[0m\u001b[1;33m(\u001b[0m\u001b[0mbeta1\u001b[0m\u001b[1;33m)\u001b[0m\u001b[1;33m.\u001b[0m\u001b[0madd_\u001b[0m\u001b[1;33m(\u001b[0m\u001b[1;36m1\u001b[0m \u001b[1;33m-\u001b[0m \u001b[0mbeta1\u001b[0m\u001b[1;33m,\u001b[0m \u001b[0mgrad\u001b[0m\u001b[1;33m)\u001b[0m\u001b[1;33m\u001b[0m\u001b[1;33m\u001b[0m\u001b[0m\n\u001b[0m\u001b[0;32m     94\u001b[0m                 \u001b[0mexp_avg_sq\u001b[0m\u001b[1;33m.\u001b[0m\u001b[0mmul_\u001b[0m\u001b[1;33m(\u001b[0m\u001b[0mbeta2\u001b[0m\u001b[1;33m)\u001b[0m\u001b[1;33m.\u001b[0m\u001b[0maddcmul_\u001b[0m\u001b[1;33m(\u001b[0m\u001b[1;36m1\u001b[0m \u001b[1;33m-\u001b[0m \u001b[0mbeta2\u001b[0m\u001b[1;33m,\u001b[0m \u001b[0mgrad\u001b[0m\u001b[1;33m,\u001b[0m \u001b[0mgrad\u001b[0m\u001b[1;33m)\u001b[0m\u001b[1;33m\u001b[0m\u001b[1;33m\u001b[0m\u001b[0m\n\u001b[0;32m     95\u001b[0m                 \u001b[1;32mif\u001b[0m \u001b[0mamsgrad\u001b[0m\u001b[1;33m:\u001b[0m\u001b[1;33m\u001b[0m\u001b[1;33m\u001b[0m\u001b[0m\n",
      "\u001b[1;31mKeyboardInterrupt\u001b[0m: "
     ]
    }
   ],
   "source": [
    "## start \n",
    "train_loss_list = np.zeros(n_iteration)\n",
    "train_accu_list = np.zeros(n_iteration)\n",
    "val_loss_list = np.zeros(n_iteration)\n",
    "val_accu_list = np.zeros(n_iteration)\n",
    "for i in range(n_iteration):\n",
    "    # first get a minibatch of data\n",
    "    train_loss_all_batch = 0\n",
    "    train_correct = 0\n",
    "    for j in range(n_batch):\n",
    "        batch_start_index = j*batch_size\n",
    "        # get data batch from the normalized data\n",
    "        X_batch = X_train_tensor[batch_start_index:batch_start_index+batch_size]\n",
    "        # get class score from model\n",
    "        y_pred_batch = mlp(X_batch)\n",
    "        # get ground truth label y\n",
    "        y_batch = y_train_tensor[batch_start_index:batch_start_index+batch_size]\n",
    "        # compute loss using ground truth y and the predicted scores\n",
    "        train_loss = criterion(y_pred_batch, y_batch)\n",
    "        # add to ave_loss\n",
    "        train_loss_all_batch += train_loss.item()\n",
    "        # zero out gradient for optimizer, if you don't do this, gradients will accumulate\n",
    "        optimizer.zero_grad()\n",
    "        # backward propagation\n",
    "        train_loss.backward()\n",
    "        # take a gradient step\n",
    "        optimizer.step()\n",
    "        \n",
    "        train_correct_batch, _ = get_correct_and_accuracy(y_pred_batch, y_batch)\n",
    "        train_correct += train_correct_batch\n",
    "        \n",
    "    ## logging training information    \n",
    "    ave_train_loss = train_loss_all_batch / n_batch\n",
    "    train_accu = train_correct / n_train_data\n",
    "    \n",
    "    # compute validation loss and accuracy\n",
    "    y_val_pred = mlp(X_val_tensor)\n",
    "    val_loss = criterion(y_val_pred, y_val_tensor)\n",
    "    val_correct, val_accu = get_correct_and_accuracy(y_val_pred, y_val_tensor)\n",
    "    \n",
    "    print(\"Iter %d ,Train loss: %.3f, Train acc: %.3f, Val loss: %.3f, Val acc: %.3f\" \n",
    "          %(i ,ave_train_loss, train_accu, val_loss, val_accu)) \n",
    "    \n",
    "    ## add to the logs so that we can use them later for plotting\n",
    "    train_loss_list[i] = ave_train_loss\n",
    "    train_accu_list[i] = train_accu\n",
    "    val_loss_list[i] = val_loss.item()\n",
    "    val_accu_list[i] = val_accu\n",
    "    "
   ]
  },
  {
   "cell_type": "markdown",
   "metadata": {},
   "source": [
    "### At iteration 100, you should see sth like this:\n",
    "Train loss: 1.3, Train acc: 0.53, Val loss: 1.8, Val acc: 0.39"
   ]
  },
  {
   "cell_type": "markdown",
   "metadata": {},
   "source": [
    "## 2.3 Plotting training process\n",
    "We want to first plot training loss versus validation loss, then plot training accuracy, validation accuracy."
   ]
  },
  {
   "cell_type": "code",
   "execution_count": null,
   "metadata": {},
   "outputs": [],
   "source": [
    "## plot training loss versus validation loss\n",
    "x_axis = np.arange(n_iteration)\n",
    "plt.plot(x_axis, train_loss_list, label='train loss')\n",
    "plt.plot(x_axis, val_loss_list, label='val loss')\n",
    "plt.legend()\n",
    "plt.show()"
   ]
  },
  {
   "cell_type": "code",
   "execution_count": 16,
   "metadata": {},
   "outputs": [
    {
     "data": {
      "image/png": "[encoded data removed]",
      "text/plain": [
       "<Figure size 432x288 with 1 Axes>"
      ]
     },
     "metadata": {
      "needs_background": "light"
     },
     "output_type": "display_data"
    }
   ],
   "source": [
    "## plot training accuracy versus validation accuracy\n",
    "plt.plot(x_axis, train_accu_list, label='train acc')\n",
    "plt.plot(x_axis, val_accu_list, label='val acc')\n",
    "plt.legend()\n",
    "plt.show()"
   ]
  },
  {
   "cell_type": "markdown",
   "metadata": {},
   "source": [
    "## 2.4 Report testing performance\n",
    "We want run the trained model on test data to see how well it does"
   ]
  },
  {
   "cell_type": "code",
   "execution_count": 38,
   "metadata": {},
   "outputs": [
    {
     "name": "stdout",
     "output_type": "stream",
     "text": [
      "Test accuracy:  0.4187\n"
     ]
    }
   ],
   "source": [
    "## test performance on the test set and report final performance\n",
    "X_test_tensor = Tensor(X_test_normalized).reshape(-1, 3072) \n",
    "y_test_tensor = Tensor(y_test).long()\n",
    "n_test_correct = 0\n",
    "test_batch_size = 100\n",
    "for i in range(100):\n",
    "    X_test_batch = X_test_tensor[i*test_batch_size:(i+1)*test_batch_size]\n",
    "    y_test_batch = y_test_tensor[i*test_batch_size:(i+1)*test_batch_size]\n",
    "    test_pred = mlp(X_test_batch)\n",
    "    test_loss = criterion(test_pred, y_test_batch)\n",
    "    test_correct, test_accu = get_correct_and_accuracy(test_pred, y_test_batch)\n",
    "    n_test_correct += test_correct\n",
    "print(\"Test accuracy: \", n_test_correct/10000)"
   ]
  },
  {
   "cell_type": "markdown",
   "metadata": {},
   "source": [
    "## 3.1 Now we design a convolutional network\n",
    "Check pytorch documentation for usage of each layer"
   ]
  },
  {
   "cell_type": "code",
   "execution_count": 53,
   "metadata": {},
   "outputs": [],
   "source": [
    "from torch import Tensor\n",
    "class ConvNet(nn.Module):\n",
    "    def __init__(self):\n",
    "        super(ConvNet, self).__init__()\n",
    "        # 3 input image channel, 12 output channels, 5x5 square convolution\n",
    "        # kernel\n",
    "        self.conv1 = nn.Conv2d(3, 6, 5, padding=2)\n",
    "        self.conv2 = nn.Conv2d(6, 12, 5)\n",
    "        self.conv3 = nn.Conv2d(12, 24, 5)\n",
    "        # an affine operation: y = Wx + b\n",
    "        self.fc1 = nn.Linear(24 * 5 * 5, 256)\n",
    "        self.fc2 = nn.Linear(256, 128)\n",
    "        self.fc3 = nn.Linear(128, 10)\n",
    "\n",
    "    def forward(self, x):\n",
    "        # Max pooling over a (2, 2) window\n",
    "        x = F.relu(self.conv1(x))\n",
    "        # after above step x is now m x 6 x 32 x 32\n",
    "        x = F.relu(self.conv2(x))\n",
    "        # after above step x is now m x 12 x 28 x 28\n",
    "        x = F.max_pool2d(x, (2, 2))\n",
    "        # after above step x is now m x 12 x 14 x 14\n",
    "        # If the size is a square you can only specify a single number\n",
    "        x = F.relu(self.conv3(x))\n",
    "        # after above step x is now m x 24 x 10 x 10\n",
    "        x = F.max_pool2d(x, 2)\n",
    "        # after above step x is now m x 24 x 5 x 5\n",
    "        x = x.view(-1, self.num_flat_features(x))\n",
    "        x = F.relu(self.fc1(x))\n",
    "        x = F.relu(self.fc2(x))\n",
    "        # last layer doesn't have activation since we use pytorch's binary cross entropy loss\n",
    "        x = self.fc3(x)\n",
    "        return x\n",
    "\n",
    "    def num_flat_features(self, x):\n",
    "        size = x.size()[1:]  # all dimensions except the batch dimension\n",
    "        num_features = 1\n",
    "        for s in size:\n",
    "            num_features *= s\n",
    "        return num_features"
   ]
  },
  {
   "cell_type": "markdown",
   "metadata": {},
   "source": [
    "## 3.2 Training the Convolutional Net model\n",
    "1. We first initialize the neural network, and also the optimizer and the criterion (loss function)\n",
    "2. We then convert data into correct tensor form\n",
    "3. We then start doing training iterations"
   ]
  },
  {
   "cell_type": "code",
   "execution_count": 54,
   "metadata": {
    "scrolled": true
   },
   "outputs": [
    {
     "name": "stdout",
     "output_type": "stream",
     "text": [
      "model structure:  ConvNet(\n",
      "  (conv1): Conv2d(3, 6, kernel_size=(5, 5), stride=(1, 1), padding=(2, 2))\n",
      "  (conv2): Conv2d(6, 12, kernel_size=(5, 5), stride=(1, 1))\n",
      "  (conv3): Conv2d(12, 24, kernel_size=(5, 5), stride=(1, 1))\n",
      "  (fc1): Linear(in_features=600, out_features=256, bias=True)\n",
      "  (fc2): Linear(in_features=256, out_features=128, bias=True)\n",
      "  (fc3): Linear(in_features=128, out_features=10, bias=True)\n",
      ")\n",
      "X train tensor shape: torch.Size([9000, 3, 32, 32])\n"
     ]
    }
   ],
   "source": [
    "# init network\n",
    "conv_net = ConvNet()\n",
    "print('model structure: ', conv_net)\n",
    "# init optimizer\n",
    "optimizer = optim.Adam(conv_net.parameters(), lr=1e-3)\n",
    "# set loss function\n",
    "criterion = nn.CrossEntropyLoss()\n",
    "\n",
    "# prepare for mini-batch stochastic gradient descent\n",
    "n_iteration = 40\n",
    "batch_size = 256\n",
    "n_train_data = X_train_normalized.shape[0]\n",
    "n_batch = int(np.ceil(n_train_data/batch_size))\n",
    "\n",
    "# convert X_train and X_val to tensor and flatten them\n",
    "X_train_tensor = Tensor(X_train_normalized)\n",
    "X_val_tensor = Tensor(X_val_normalized)\n",
    "\n",
    "# convert training label to tensor and to type long\n",
    "y_train_tensor = Tensor(y_train).long()\n",
    "y_val_tensor = Tensor(y_val).long()\n",
    "\n",
    "print('X train tensor shape:', X_train_tensor.shape)"
   ]
  },
  {
   "cell_type": "code",
   "execution_count": 55,
   "metadata": {
    "scrolled": true
   },
   "outputs": [
    {
     "name": "stdout",
     "output_type": "stream",
     "text": [
      "Iter 0 ,Train loss: 2.183, Train acc: 0.184, Val loss: 2.044, Val acc: 0.238\n",
      "Iter 1 ,Train loss: 2.020, Train acc: 0.244, Val loss: 2.001, Val acc: 0.262\n",
      "Iter 2 ,Train loss: 1.925, Train acc: 0.284, Val loss: 1.865, Val acc: 0.317\n",
      "Iter 3 ,Train loss: 1.793, Train acc: 0.341, Val loss: 1.804, Val acc: 0.352\n",
      "Iter 4 ,Train loss: 1.700, Train acc: 0.375, Val loss: 1.686, Val acc: 0.395\n",
      "Iter 5 ,Train loss: 1.628, Train acc: 0.402, Val loss: 1.632, Val acc: 0.410\n",
      "Iter 6 ,Train loss: 1.575, Train acc: 0.421, Val loss: 1.617, Val acc: 0.409\n",
      "Iter 7 ,Train loss: 1.553, Train acc: 0.429, Val loss: 1.554, Val acc: 0.429\n",
      "Iter 8 ,Train loss: 1.513, Train acc: 0.442, Val loss: 1.517, Val acc: 0.430\n",
      "Iter 9 ,Train loss: 1.469, Train acc: 0.458, Val loss: 1.498, Val acc: 0.440\n",
      "Iter 10 ,Train loss: 1.444, Train acc: 0.473, Val loss: 1.481, Val acc: 0.440\n",
      "Iter 11 ,Train loss: 1.404, Train acc: 0.484, Val loss: 1.468, Val acc: 0.453\n",
      "Iter 12 ,Train loss: 1.381, Train acc: 0.494, Val loss: 1.450, Val acc: 0.463\n",
      "Iter 13 ,Train loss: 1.353, Train acc: 0.508, Val loss: 1.448, Val acc: 0.466\n",
      "Iter 14 ,Train loss: 1.327, Train acc: 0.517, Val loss: 1.445, Val acc: 0.476\n",
      "Iter 15 ,Train loss: 1.302, Train acc: 0.528, Val loss: 1.456, Val acc: 0.466\n",
      "Iter 16 ,Train loss: 1.276, Train acc: 0.536, Val loss: 1.473, Val acc: 0.461\n",
      "Iter 17 ,Train loss: 1.251, Train acc: 0.544, Val loss: 1.474, Val acc: 0.465\n",
      "Iter 18 ,Train loss: 1.226, Train acc: 0.556, Val loss: 1.455, Val acc: 0.471\n",
      "Iter 19 ,Train loss: 1.199, Train acc: 0.564, Val loss: 1.451, Val acc: 0.473\n",
      "Iter 20 ,Train loss: 1.174, Train acc: 0.573, Val loss: 1.477, Val acc: 0.463\n",
      "Iter 21 ,Train loss: 1.158, Train acc: 0.582, Val loss: 1.493, Val acc: 0.467\n",
      "Iter 22 ,Train loss: 1.161, Train acc: 0.581, Val loss: 1.480, Val acc: 0.475\n",
      "Iter 23 ,Train loss: 1.143, Train acc: 0.587, Val loss: 1.442, Val acc: 0.480\n",
      "Iter 24 ,Train loss: 1.090, Train acc: 0.606, Val loss: 1.450, Val acc: 0.486\n",
      "Iter 25 ,Train loss: 1.076, Train acc: 0.608, Val loss: 1.433, Val acc: 0.494\n",
      "Iter 26 ,Train loss: 1.058, Train acc: 0.615, Val loss: 1.491, Val acc: 0.485\n",
      "Iter 27 ,Train loss: 1.054, Train acc: 0.618, Val loss: 1.460, Val acc: 0.501\n",
      "Iter 28 ,Train loss: 1.063, Train acc: 0.618, Val loss: 1.382, Val acc: 0.511\n",
      "Iter 29 ,Train loss: 1.006, Train acc: 0.632, Val loss: 1.411, Val acc: 0.506\n",
      "Iter 30 ,Train loss: 0.979, Train acc: 0.645, Val loss: 1.479, Val acc: 0.497\n",
      "Iter 31 ,Train loss: 0.949, Train acc: 0.658, Val loss: 1.525, Val acc: 0.480\n",
      "Iter 32 ,Train loss: 0.943, Train acc: 0.659, Val loss: 1.523, Val acc: 0.490\n",
      "Iter 33 ,Train loss: 0.973, Train acc: 0.647, Val loss: 1.417, Val acc: 0.521\n",
      "Iter 34 ,Train loss: 0.950, Train acc: 0.656, Val loss: 1.464, Val acc: 0.509\n",
      "Iter 35 ,Train loss: 0.910, Train acc: 0.671, Val loss: 1.525, Val acc: 0.506\n",
      "Iter 36 ,Train loss: 0.874, Train acc: 0.687, Val loss: 1.547, Val acc: 0.509\n",
      "Iter 37 ,Train loss: 0.847, Train acc: 0.693, Val loss: 1.597, Val acc: 0.516\n",
      "Iter 38 ,Train loss: 0.854, Train acc: 0.692, Val loss: 1.718, Val acc: 0.486\n",
      "Iter 39 ,Train loss: 0.818, Train acc: 0.700, Val loss: 1.834, Val acc: 0.469\n"
     ]
    }
   ],
   "source": [
    "## start \n",
    "train_loss_list = np.zeros(n_iteration)\n",
    "train_accu_list = np.zeros(n_iteration)\n",
    "val_loss_list = np.zeros(n_iteration)\n",
    "val_accu_list = np.zeros(n_iteration)\n",
    "for i in range(n_iteration):\n",
    "    # first get a minibatch of data\n",
    "    train_loss_all_batch = 0\n",
    "    train_correct = 0\n",
    "    for j in range(n_batch):\n",
    "        batch_start_index = j*batch_size\n",
    "        # get data batch from the normalized data\n",
    "        X_batch = X_train_tensor[batch_start_index:batch_start_index+batch_size]\n",
    "        # get class score from model\n",
    "        y_pred_batch = conv_net(X_batch)\n",
    "        # get ground truth label y\n",
    "        y_batch = y_train_tensor[batch_start_index:batch_start_index+batch_size]\n",
    "        # compute loss using ground truth y and the predicted scores\n",
    "        train_loss = criterion(y_pred_batch, y_batch)\n",
    "        # add to ave_loss\n",
    "        train_loss_all_batch += train_loss.item()\n",
    "        # zero out gradient for optimizer, if you don't do this, gradients will accumulate\n",
    "        optimizer.zero_grad()\n",
    "        # backward propagation\n",
    "        train_loss.backward()\n",
    "        # take a gradient step\n",
    "        optimizer.step()\n",
    "        \n",
    "        train_correct_batch, _ = get_correct_and_accuracy(y_pred_batch, y_batch)\n",
    "        train_correct += train_correct_batch\n",
    "        \n",
    "    ## logging training information    \n",
    "    ave_train_loss = train_loss_all_batch/ n_batch\n",
    "    train_accu = train_correct / n_train_data\n",
    "    \n",
    "    # compute validation loss and accuracy\n",
    "    y_val_pred = conv_net(X_val_tensor)\n",
    "    val_loss = criterion(y_val_pred, y_val_tensor)\n",
    "    val_correct, val_accu = get_correct_and_accuracy(y_val_pred, y_val_tensor)\n",
    "    \n",
    "    print(\"Iter %d ,Train loss: %.3f, Train acc: %.3f, Val loss: %.3f, Val acc: %.3f\" \n",
    "          %(i ,ave_train_loss, train_accu, val_loss, val_accu)) \n",
    "    \n",
    "    ## add to the logs so that we can use them later for plotting\n",
    "    train_loss_list[i] = ave_train_loss\n",
    "    train_accu_list[i] = train_accu\n",
    "    val_loss_list[i] = val_loss.item()\n",
    "    val_accu_list[i] = val_accu"
   ]
  },
  {
   "cell_type": "markdown",
   "metadata": {},
   "source": [
    "# compute test loss and accuracy, report final performance of model\n",
    "X_test_tensor = Tensor(X_test_normalized[:200])\n",
    "y_test_tensor = Tensor(y_test[:200]).long()\n",
    "y_test_pred = conv_net(X_test_tensor)\n",
    "test_loss = criterion(y_test_pred, y_test_tensor)\n",
    "test_correct, test_accu = get_correct_and_accuracy(y_test_pred, y_test_tensor)"
   ]
  },
  {
   "cell_type": "markdown",
   "metadata": {},
   "source": [
    "### At iteration 40, you should see sth like this:\n",
    "Train loss: 0.83, Train acc: 0.70, Val loss: 1.5, Val acc: 0.53"
   ]
  },
  {
   "cell_type": "markdown",
   "metadata": {},
   "source": [
    "## 3.3 Plotting training process\n",
    "We want to first plot training loss versus validation loss, then plot training accuracy, validation accuracy."
   ]
  },
  {
   "cell_type": "code",
   "execution_count": 58,
   "metadata": {},
   "outputs": [
    {
     "data": {
      "image/png": "[encoded data removed]",
      "text/plain": [
       "<Figure size 432x288 with 1 Axes>"
      ]
     },
     "metadata": {
      "needs_background": "light"
     },
     "output_type": "display_data"
    }
   ],
   "source": [
    "## plot training loss versus validation loss\n",
    "x_axis = np.arange(n_iteration)\n",
    "plt.plot(x_axis, train_loss_list, label='train loss')\n",
    "plt.plot(x_axis, val_loss_list, label='val loss')\n",
    "plt.legend()\n",
    "plt.show()"
   ]
  },
  {
   "cell_type": "code",
   "execution_count": 59,
   "metadata": {},
   "outputs": [
    {
     "data": {
      "image/png": "[encoded data removed]",
      "text/plain": [
       "<Figure size 432x288 with 1 Axes>"
      ]
     },
     "metadata": {
      "needs_background": "light"
     },
     "output_type": "display_data"
    }
   ],
   "source": [
    "## plot training accuracy versus validation accuracy\n",
    "plt.plot(x_axis, train_accu_list, label='train acc')\n",
    "plt.plot(x_axis, val_accu_list, label='val acc')\n",
    "plt.legend()\n",
    "plt.show()"
   ]
  },
  {
   "cell_type": "code",
   "execution_count": 24,
   "metadata": {},
   "outputs": [
    {
     "name": "stdout",
     "output_type": "stream",
     "text": [
      "[0.16244444 0.28466667 0.34766667 0.38622222 0.42       0.43633333\n",
      " 0.45111111 0.46966667 0.481      0.49355556 0.50788889 0.51977778\n",
      " 0.53566667 0.54655556 0.55822222 0.56944444 0.57711111 0.593\n",
      " 0.60466667 0.61377778 0.62311111 0.62577778 0.63122222 0.649\n",
      " 0.65577778 0.66333333 0.676      0.68055556 0.68033333 0.68033333\n",
      " 0.69388889 0.71244444 0.72366667 0.72111111 0.73244444 0.77044444\n",
      " 0.79277778 0.80188889 0.78233333 0.77988889]\n"
     ]
    }
   ],
   "source": [
    "print(train_accu_list\n",
    "     )"
   ]
  },
  {
   "cell_type": "markdown",
   "metadata": {},
   "source": [
    "## 3.4 Report testing performance\n",
    "We want run the trained model on test data to see how well it does"
   ]
  },
  {
   "cell_type": "code",
   "execution_count": 23,
   "metadata": {},
   "outputs": [
    {
     "name": "stdout",
     "output_type": "stream",
     "text": [
      "Test accuracy:  0.4867\n"
     ]
    }
   ],
   "source": [
    "## test performance on the test set and report final performance\n",
    "X_test_tensor = Tensor(X_test_normalized)\n",
    "y_test_tensor = Tensor(y_test).long()\n",
    "n_test_correct = 0\n",
    "test_batch_size = 100\n",
    "for i in range(100):\n",
    "    X_test_batch = X_test_tensor[i*test_batch_size:(i+1)*test_batch_size]\n",
    "    y_test_batch = y_test_tensor[i*test_batch_size:(i+1)*test_batch_size]\n",
    "    test_pred = conv_net(X_test_batch)\n",
    "    test_loss = criterion(test_pred, y_test_batch)\n",
    "    test_correct, test_accu = get_correct_and_accuracy(test_pred, y_test_batch)\n",
    "    n_test_correct += test_correct\n",
    "print(\"Test accuracy: \", n_test_correct/10000)"
   ]
  },
  {
   "cell_type": "markdown",
   "metadata": {},
   "source": [
    "## Other things you can do to improve model performance: \n",
    "1. Add in regularization, you can use l2, Dropout\n",
    "2. Use a better data normalization method\n",
    "3. Train on more data\n",
    "4. Do data augmentation to get more data\n",
    "5. Use a more powerful network structure\n",
    "6. Do transfer learning"
   ]
  },
  {
   "cell_type": "code",
   "execution_count": null,
   "metadata": {},
   "outputs": [],
   "source": []
  },
  {
   "cell_type": "code",
   "execution_count": null,
   "metadata": {},
   "outputs": [],
   "source": []
  },
  {
   "cell_type": "code",
   "execution_count": null,
   "metadata": {},
   "outputs": [],
   "source": []
  },
  {
   "cell_type": "code",
   "execution_count": null,
   "metadata": {},
   "outputs": [],
   "source": []
  },
  {
   "cell_type": "code",
   "execution_count": null,
   "metadata": {},
   "outputs": [],
   "source": []
  }
 ],
 "metadata": {
  "kernelspec": {
   "display_name": "Python 3",
   "language": "python",
   "name": "python3"
  },
  "language_info": {
   "codemirror_mode": {
    "name": "ipython",
    "version": 3
   },
   "file_extension": ".py",
   "mimetype": "text/x-python",
   "name": "python",
   "nbconvert_exporter": "python",
   "pygments_lexer": "ipython3",
   "version": "3.7.3"
  }
 },
 "nbformat": 4,
 "nbformat_minor": 2
}
