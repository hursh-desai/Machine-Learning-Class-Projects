{
 "cells": [
  {
   "cell_type": "code",
   "execution_count": 1,
   "metadata": {},
   "outputs": [],
   "source": [
    "with open(\"C:\\\\Users\\\\hd626\\\\A Machine Learning Course\\\\Assignment 1\\\\spam_train.txt\") as file:\n",
    "    emails = file.readlines()\n",
    "    validate = emails[0:1000]\n",
    "    train = emails[1000:5000]\n",
    "    uniqueting = emails\n",
    "with open('C:\\\\Users\\\\hd626\\\\A Machine Learning Course\\\\Assignment 1\\\\train.txt', 'w') as f:\n",
    "    for item in train:\n",
    "        f.write(item)\n",
    "with open('C:\\\\Users\\\\hd626\\\\A Machine Learning Course\\\\Assignment 1\\\\validation.txt', 'w') as f:\n",
    "    for item in validate:\n",
    "        f.write(item)"
   ]
  },
  {
   "cell_type": "code",
   "execution_count": 6,
   "metadata": {},
   "outputs": [],
   "source": [
    "def words(data,X):\n",
    "    dict = {}\n",
    "    dictionary = []\n",
    "    for email in data:\n",
    "        split = set(email.split())\n",
    "        split = list(split)\n",
    "        for word in split:\n",
    "            if word in dict:\n",
    "                if word == \"1\" or word == \"0\":\n",
    "                    dict[word] = 0\n",
    "                else: dict[word] += 1\n",
    "            else: dict[word] = 1 \n",
    "    for x in dict:\n",
    "        if dict[x] >= X:\n",
    "            dictionary.append(x)\n",
    "    return dictionary"
   ]
  },
  {
   "cell_type": "code",
   "execution_count": 17,
   "metadata": {},
   "outputs": [],
   "source": [
    "def feature_vector(email, msdict):\n",
    "    feature_vector = []\n",
    "    for word in msdict:\n",
    "        if word in email: feature_vector.append(1)\n",
    "        else: feature_vector.append(0)      \n",
    "    return feature_vector"
   ]
  },
  {
   "cell_type": "code",
   "execution_count": 18,
   "metadata": {},
   "outputs": [],
   "source": [
    "def label_vector(emails):\n",
    "    label_vector = []\n",
    "    for email in emails:\n",
    "        split = email.split()\n",
    "        if split[0] == \"1\": label_vector.append(1)\n",
    "        else: label_vector.append(-1)\n",
    "    return label_vector"
   ]
  },
  {
   "cell_type": "code",
   "execution_count": 19,
   "metadata": {},
   "outputs": [],
   "source": [
    "def fvectlist(data, dictionary):\n",
    "    x = []\n",
    "    temp = []\n",
    "    for email in data:\n",
    "        temp = feature_vector(email.split(), dictionary)\n",
    "        x.append(temp)\n",
    "    print(\"finished\")\n",
    "    return x"
   ]
  },
  {
   "cell_type": "code",
   "execution_count": 20,
   "metadata": {},
   "outputs": [],
   "source": [
    "def dotproduct(a, b):\n",
    "    return sum(c*d for c,d in zip(a, b))"
   ]
  },
  {
   "cell_type": "code",
   "execution_count": null,
   "metadata": {},
   "outputs": [],
   "source": [
    "def perceptron_train(data, maxiter):  \n",
    "    \n",
    "    msdict = words(train, 27)  \n",
    "    \n",
    "    lbl_vector = label_vector(train)\n",
    "    \n",
    "    ft_vector = fvectlist(train, msdict)\n",
    "    \n",
    "    w =  [0] * (len(msdict)) \n",
    "    k = 0\n",
    "    iterator = 0\n",
    "    \n",
    "    m = 0\n",
    "    inc = 0\n",
    "    while m == 0:\n",
    "        for i in range(len(ft_vector)):\n",
    "            if lbl_vector[i] * dotproduct(w,ft_vector[i]) > 0:\n",
    "                w = w     \n",
    "            else:\n",
    "                for j in range(len(w)):\n",
    "                    w[j] = w[j] + (lbl_vector[i] * ft_vector[i][j])\n",
    "                    inc = 1\n",
    "                    k += 1   \n",
    "        iterator += 1\n",
    "\n",
    "        if inc == 0 or iterator == maxiter:\n",
    "            m = 1\n",
    "            print(k,iterator)\n",
    "            return w\n",
    "        \n",
    "        else:\n",
    "            inc = 0\n",
    "            \n",
    "w = perceptron_train(train, 10)"
   ]
  },
  {
   "cell_type": "code",
   "execution_count": 26,
   "metadata": {},
   "outputs": [],
   "source": [
    "def perceptron_error(data, w):\n",
    "    msdict = words(data, 27)  \n",
    "    \n",
    "    lbl_vector = label_vector(data)\n",
    "\n",
    "    ft_vector = fvectlist(data, msdict)\n",
    "    \n",
    "    num_cor = 0\n",
    "    num_inc = 0\n",
    "    for i in range(len(msdict)):\n",
    "        if lbl_vector[i] * dotproduct(w,ft_vector[i]) > 0:\n",
    "            num_cor += 1\n",
    "        else:\n",
    "            num_inc += 1\n",
    "#     print(num_cor)\n",
    "#     print(num_inc)\n",
    "    return (num_inc/(num_cor + num_inc))\n",
    "                "
   ]
  }
 ],
 "metadata": {
  "kernelspec": {
   "display_name": "Python 3",
   "language": "python",
   "name": "python3"
  },
  "language_info": {
   "codemirror_mode": {
    "name": "ipython",
    "version": 3
   },
   "file_extension": ".py",
   "mimetype": "text/x-python",
   "name": "python",
   "nbconvert_exporter": "python",
   "pygments_lexer": "ipython3",
   "version": "3.7.2"
  }
 },
 "nbformat": 4,
 "nbformat_minor": 2
}
