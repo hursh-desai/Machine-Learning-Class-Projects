{
 "cells": [
  {
   "cell_type": "code",
   "execution_count": 1,
   "metadata": {},
   "outputs": [],
   "source": [
    "import numpy as np\n",
    "import time \n",
    "import math"
   ]
  },
  {
   "cell_type": "code",
   "execution_count": 2,
   "metadata": {},
   "outputs": [],
   "source": [
    "X = np.genfromtxt('ps5_data.csv',delimiter=',')\n",
    "y = np.genfromtxt('ps5_data-labels.csv',delimiter=',')\n",
    "y = y-1\n",
    "W1 = np.genfromtxt('ps5_theta1.csv',delimiter=',')\n",
    "W2 = np.genfromtxt('ps5_theta2.csv',delimiter=',')\n",
    "bias1 = W1[:,0]\n",
    "bias2 = W2[:,0]\n",
    "W1 = W1[:,1:]\n",
    "W2 = W2[:,1:]"
   ]
  },
  {
   "cell_type": "code",
   "execution_count": 3,
   "metadata": {},
   "outputs": [
    {
     "name": "stdout",
     "output_type": "stream",
     "text": [
      "(5000, 400) (5000,) (25, 400) (10, 25)\n"
     ]
    }
   ],
   "source": [
    "print(X.shape, y.shape, W1.shape, W2.shape)"
   ]
  },
  {
   "cell_type": "code",
   "execution_count": 4,
   "metadata": {},
   "outputs": [],
   "source": [
    "def sigmoid(z):\n",
    "    a = 1/(1 + math.exp(-z))\n",
    "    return a"
   ]
  },
  {
   "cell_type": "code",
   "execution_count": 5,
   "metadata": {},
   "outputs": [],
   "source": [
    "def soft_max(z):\n",
    "    a3 = [0] * 10\n",
    "    expsum = 0\n",
    "    for i in range(10):\n",
    "        expsum += math.exp(z[i])\n",
    "    for i in range(10):\n",
    "        a3[i] = math.exp(z[i])/expsum\n",
    "    return a3"
   ]
  },
  {
   "cell_type": "code",
   "execution_count": 6,
   "metadata": {},
   "outputs": [],
   "source": [
    "def hidden_layer_comp(picnum, num):\n",
    "    z1 = bias1[num]\n",
    "    for i in range(len(W1[num])):\n",
    "        z1 += X[picnum][i] * W1[num][i]\n",
    "    return sigmoid(z1)"
   ]
  },
  {
   "cell_type": "code",
   "execution_count": 7,
   "metadata": {},
   "outputs": [],
   "source": [
    "def soft_max_comp(num, a1):\n",
    "    z2 = bias2[num]\n",
    "    for i in range(len(W2[num])):\n",
    "        z2 += a1[i] * W2[num][i]\n",
    "    return z2"
   ]
  },
  {
   "cell_type": "code",
   "execution_count": 9,
   "metadata": {},
   "outputs": [],
   "source": [
    "def NeuralNetwork(picnum):\n",
    "    a1 = []\n",
    "    z2 = []\n",
    "    for i in range(25):\n",
    "        a1.append(hidden_layer_comp(picnum, i))\n",
    "    for i in range(10):\n",
    "        z2.append(soft_max_comp(i, a1))\n",
    "    return soft_max(z2)"
   ]
  },
  {
   "cell_type": "code",
   "execution_count": 10,
   "metadata": {},
   "outputs": [
    {
     "data": {
      "text/plain": [
       "[3.5940306607658804e-07,\n",
       " 5.563753894636294e-05,\n",
       " 1.5994552645981915e-05,\n",
       " 5.698427050909945e-07,\n",
       " 5.719203151412403e-06,\n",
       " 4.962468030353424e-06,\n",
       " 1.612005426717125e-05,\n",
       " 2.003428652322571e-06,\n",
       " 2.318032046515967e-06,\n",
       " 0.9998963154764886]"
      ]
     },
     "execution_count": 10,
     "metadata": {},
     "output_type": "execute_result"
    }
   ],
   "source": [
    "NeuralNetwork(50)"
   ]
  },
  {
   "cell_type": "code",
   "execution_count": 9,
   "metadata": {},
   "outputs": [],
   "source": [
    "def classify(picnum):\n",
    "    nn = NeuralNetwork(picnum)\n",
    "    for i in range(10):\n",
    "        if max(nn) == nn[i]:\n",
    "            return i"
   ]
  },
  {
   "cell_type": "code",
   "execution_count": 12,
   "metadata": {},
   "outputs": [],
   "source": [
    "def prediction_time():\n",
    "    t1 = time.time()\n",
    "    p = []\n",
    "    for i in range(5000):\n",
    "        p.append(classify(i))\n",
    "    t2 = time.time()\n",
    "    total_time = t2-t1\n",
    "    return p, total_time"
   ]
  },
  {
   "cell_type": "code",
   "execution_count": 13,
   "metadata": {},
   "outputs": [],
   "source": [
    "predictions, time = prediction_time()"
   ]
  },
  {
   "cell_type": "code",
   "execution_count": 14,
   "metadata": {},
   "outputs": [
    {
     "name": "stdout",
     "output_type": "stream",
     "text": [
      "44.45108890533447\n"
     ]
    }
   ],
   "source": [
    "print(time)"
   ]
  },
  {
   "cell_type": "code",
   "execution_count": 15,
   "metadata": {},
   "outputs": [],
   "source": [
    "def error_rate(p):\n",
    "    error_count = 0\n",
    "    for i in range(len(y)):\n",
    "        if (p[i] != y[i]):\n",
    "            error_count += 1\n",
    "    print(error_count)\n",
    "    return(error_count/len(y))"
   ]
  },
  {
   "cell_type": "code",
   "execution_count": 16,
   "metadata": {},
   "outputs": [
    {
     "name": "stdout",
     "output_type": "stream",
     "text": [
      "124\n"
     ]
    },
    {
     "data": {
      "text/plain": [
       "0.0248"
      ]
     },
     "execution_count": 16,
     "metadata": {},
     "output_type": "execute_result"
    }
   ],
   "source": [
    "error_rate(predictions)"
   ]
  },
  {
   "cell_type": "code",
   "execution_count": 10,
   "metadata": {},
   "outputs": [],
   "source": [
    "def giveCost():\n",
    "    sum1 = 0\n",
    "    for i in range(len(X)):\n",
    "        nn = NeuralNetwork(i)\n",
    "        sum1 += -math.log(nn[int(y[i])])\n",
    "    return sum1/len(X)"
   ]
  },
  {
   "cell_type": "code",
   "execution_count": 11,
   "metadata": {},
   "outputs": [
    {
     "data": {
      "text/plain": [
       "0.08688856037475012"
      ]
     },
     "execution_count": 11,
     "metadata": {},
     "output_type": "execute_result"
    }
   ],
   "source": [
    "giveCost()"
   ]
  },
  {
   "cell_type": "code",
   "execution_count": null,
   "metadata": {},
   "outputs": [],
   "source": []
  }
 ],
 "metadata": {
  "kernelspec": {
   "display_name": "Python 3",
   "language": "python",
   "name": "python3"
  },
  "language_info": {
   "codemirror_mode": {
    "name": "ipython",
    "version": 3
   },
   "file_extension": ".py",
   "mimetype": "text/x-python",
   "name": "python",
   "nbconvert_exporter": "python",
   "pygments_lexer": "ipython3",
   "version": "3.7.3"
  }
 },
 "nbformat": 4,
 "nbformat_minor": 2
}
