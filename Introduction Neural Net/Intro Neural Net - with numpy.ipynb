{
 "cells": [
  {
   "cell_type": "code",
   "execution_count": 1,
   "metadata": {},
   "outputs": [],
   "source": [
    "#With Numpy\n",
    "import numpy as np\n",
    "import time \n",
    "import math"
   ]
  },
  {
   "cell_type": "code",
   "execution_count": 2,
   "metadata": {},
   "outputs": [],
   "source": [
    "X = np.genfromtxt('ps5_data.csv',delimiter=',')\n",
    "y = np.genfromtxt('ps5_data-labels.csv',delimiter=',')\n",
    "y = y-1\n",
    "W1 = np.genfromtxt('ps5_theta1.csv',delimiter=',')\n",
    "W2 = np.genfromtxt('ps5_theta2.csv',delimiter=',')"
   ]
  },
  {
   "cell_type": "code",
   "execution_count": 3,
   "metadata": {},
   "outputs": [
    {
     "name": "stdout",
     "output_type": "stream",
     "text": [
      "(5000, 400) (5000,) (25, 401) (10, 26)\n"
     ]
    }
   ],
   "source": [
    "print(X.shape, y.shape, W1.shape, W2.shape)"
   ]
  },
  {
   "cell_type": "code",
   "execution_count": 4,
   "metadata": {},
   "outputs": [],
   "source": [
    "X_new = np.ones((5000, 401))\n",
    "X_new[:, 1:] = X\n",
    "X = X_new"
   ]
  },
  {
   "cell_type": "code",
   "execution_count": 5,
   "metadata": {},
   "outputs": [],
   "source": [
    "def sigmoid(z):\n",
    "    a = 1/(1 + math.exp(-z))\n",
    "    return a"
   ]
  },
  {
   "cell_type": "code",
   "execution_count": 6,
   "metadata": {},
   "outputs": [],
   "source": [
    "def soft_max(z):\n",
    "    a3 = [0] * 10\n",
    "    expsum = 0\n",
    "    for i in range(10):\n",
    "        expsum += math.exp(z[i])\n",
    "    for i in range(10):\n",
    "        a3[i] = math.exp(z[i])/expsum\n",
    "    return a3"
   ]
  },
  {
   "cell_type": "code",
   "execution_count": 7,
   "metadata": {},
   "outputs": [],
   "source": [
    "def hidden_layer_comp(picnum, num):\n",
    "    return sigmoid(np.dot(X[picnum],W1[num]))"
   ]
  },
  {
   "cell_type": "code",
   "execution_count": 8,
   "metadata": {},
   "outputs": [],
   "source": [
    "def soft_layer_comp(a1):\n",
    "    a1 = [1] + a1 #a1 is now 1*26\n",
    "    z2 = [0] * 10\n",
    "    z2 = np.matmul(a1, W2.transpose())\n",
    "    return soft_max(z2)"
   ]
  },
  {
   "cell_type": "code",
   "execution_count": 9,
   "metadata": {},
   "outputs": [],
   "source": [
    "def NeuralNetwork(picnum):\n",
    "    a1 = []\n",
    "    for i in range(25):\n",
    "        a1.append(hidden_layer_comp(picnum, i))\n",
    "    a2 = soft_layer_comp(a1)\n",
    "    return a2"
   ]
  },
  {
   "cell_type": "code",
   "execution_count": 10,
   "metadata": {},
   "outputs": [],
   "source": [
    "def classify(picnum):\n",
    "    nn = NeuralNetwork(picnum)\n",
    "    for i in range(10):\n",
    "        if max(nn) == nn[i]:\n",
    "            return i"
   ]
  },
  {
   "cell_type": "code",
   "execution_count": 11,
   "metadata": {},
   "outputs": [],
   "source": [
    "def prediction_time():\n",
    "    t1 = time.time()\n",
    "    p = []\n",
    "    for i in range(5000):\n",
    "        p.append(classify(i))\n",
    "    t2 = time.time()\n",
    "    total_time = t2-t1\n",
    "    return p, total_time"
   ]
  },
  {
   "cell_type": "code",
   "execution_count": 12,
   "metadata": {},
   "outputs": [],
   "source": [
    "predictions, time = prediction_time()"
   ]
  },
  {
   "cell_type": "code",
   "execution_count": 13,
   "metadata": {},
   "outputs": [],
   "source": [
    "def error_rate(p):\n",
    "    error_count = 0\n",
    "    for i in range(len(y)):\n",
    "        if (p[i] != y[i]):\n",
    "            error_count += 1\n",
    "    print(error_count)\n",
    "    return(error_count/len(y))"
   ]
  },
  {
   "cell_type": "code",
   "execution_count": 14,
   "metadata": {},
   "outputs": [
    {
     "name": "stdout",
     "output_type": "stream",
     "text": [
      "124\n"
     ]
    },
    {
     "data": {
      "text/plain": [
       "0.0248"
      ]
     },
     "execution_count": 14,
     "metadata": {},
     "output_type": "execute_result"
    }
   ],
   "source": [
    "error_rate(predictions)"
   ]
  },
  {
   "cell_type": "code",
   "execution_count": 15,
   "metadata": {},
   "outputs": [],
   "source": [
    "def giveCost():\n",
    "    sum1 = 0\n",
    "    for i in range(len(X)):\n",
    "        nn = NeuralNetwork(i)\n",
    "        sum1 += -math.log(nn[int(y[i])])\n",
    "    return sum1/len(X)"
   ]
  },
  {
   "cell_type": "code",
   "execution_count": 16,
   "metadata": {},
   "outputs": [
    {
     "data": {
      "text/plain": [
       "0.08688856037475011"
      ]
     },
     "execution_count": 16,
     "metadata": {},
     "output_type": "execute_result"
    }
   ],
   "source": [
    "giveCost()"
   ]
  },
  {
   "cell_type": "code",
   "execution_count": null,
   "metadata": {},
   "outputs": [],
   "source": []
  }
 ],
 "metadata": {
  "kernelspec": {
   "display_name": "Python 3",
   "language": "python",
   "name": "python3"
  },
  "language_info": {
   "codemirror_mode": {
    "name": "ipython",
    "version": 3
   },
   "file_extension": ".py",
   "mimetype": "text/x-python",
   "name": "python",
   "nbconvert_exporter": "python",
   "pygments_lexer": "ipython3",
   "version": "3.7.2"
  }
 },
 "nbformat": 4,
 "nbformat_minor": 2
}
