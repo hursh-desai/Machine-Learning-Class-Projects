{
 "cells": [
  {
   "cell_type": "code",
   "execution_count": 40,
   "metadata": {},
   "outputs": [],
   "source": [
    "from math import sqrt\n",
    "import random"
   ]
  },
  {
   "cell_type": "code",
   "execution_count": 4,
   "metadata": {},
   "outputs": [],
   "source": [
    "list = []\n",
    "with open('housing.txt') as file:\n",
    "    numbers = file.readlines()\n",
    "    for data in numbers:\n",
    "        split = data.split(',')\n",
    "        list.append(split)"
   ]
  },
  {
   "cell_type": "code",
   "execution_count": 5,
   "metadata": {},
   "outputs": [],
   "source": [
    "def mean(lst):\n",
    "    return sum(lst) / len(lst)\n",
    "\n",
    "def stddev(lst):\n",
    "    mn = mean(lst)\n",
    "    variance = sum([(e-mn)**2 for e in lst]) / len(lst)\n",
    "    return sqrt(variance)"
   ]
  },
  {
   "cell_type": "code",
   "execution_count": 6,
   "metadata": {},
   "outputs": [],
   "source": [
    "def make_list(name, list):\n",
    "    i = int\n",
    "    if name == \"size\":\n",
    "        i = 0\n",
    "    elif name == \"beds\":\n",
    "        i = 1\n",
    "    elif name == \"price\":\n",
    "        i = 2\n",
    "        \n",
    "    list1 = []\n",
    "    for x in list:\n",
    "        list1.append(int(x[i])) \n",
    "    list2 = []\n",
    "    for x in list1:\n",
    "        mean1 = mean(list1)\n",
    "        stddev1 = stddev(list1)\n",
    "        ting = (x - mean1)/stddev1\n",
    "        list2.append(ting)\n",
    "    return list2"
   ]
  },
  {
   "cell_type": "code",
   "execution_count": 103,
   "metadata": {},
   "outputs": [],
   "source": [
    "def normalize(data):\n",
    "    list = []\n",
    "    with open(data) as file:\n",
    "        numbers = file.readlines()\n",
    "        for data in numbers:\n",
    "            split = data.split(',')\n",
    "            list.append(split)\n",
    "    normalized_list = []\n",
    "    normalized_list.append(make_list(\"size\", list))\n",
    "    normalized_list.append(make_list(\"beds\", list))\n",
    "    normalized_list.append(make_list(\"price\", list))\n",
    "    with open('normalized.txt') as file:\n",
    "        for list1 in normalized_list:\n",
    "            for string in list1:\n",
    "                file.write(str(string))\n",
    "    return normalized_list"
   ]
  },
  {
   "cell_type": "code",
   "execution_count": 234,
   "metadata": {},
   "outputs": [],
   "source": [
    "def gradient_descent(x1, x2, y, alpha, iterations):\n",
    "    w = [0,0,0]\n",
    "    m = len(y)\n",
    "    \n",
    "    def fwx(i):\n",
    "        return w[0] + (w[1]*x1[i]) + (w[2]*x2[i]) \n",
    "    \n",
    "    def summation(j):\n",
    "        sum_list = []\n",
    "        for i in range(m):\n",
    "            sum_list.append((fwx(i) - (y[i])) * xj(j,i))\n",
    "        return sum(sum_list)\n",
    "    \n",
    "    def xj(j,i):\n",
    "        if j == 0:\n",
    "            return 1\n",
    "        elif j == 1:\n",
    "            return x1[i]\n",
    "        elif j == 2:\n",
    "            return x2[i]\n",
    "    \n",
    "    def jwsummation(j):\n",
    "        sum_list = []\n",
    "        for i in range(m):\n",
    "            sum_list.append((fwx(i) - (y[i]))**2)\n",
    "        return sum(sum_list)\n",
    "    \n",
    "    \n",
    "    for i in range(iterations):\n",
    "        for j in range(len(w)): \n",
    "            w[j] = w[j] - ((1/m) * alpha * summation(j))\n",
    "    print(((1/(2*m)) * jwsummation(j)))\n",
    "    return w"
   ]
  },
  {
   "cell_type": "code",
   "execution_count": 242,
   "metadata": {},
   "outputs": [
    {
     "name": "stdout",
     "output_type": "stream",
     "text": [
      "0.20305636208152159\n"
     ]
    },
    {
     "data": {
      "text/plain": [
       "[-6.772360450213454e-17, 0.4373812871483521, 0.15653357102164714]"
      ]
     },
     "execution_count": 242,
     "metadata": {},
     "output_type": "execute_result"
    }
   ],
   "source": [
    "gradient_descent(make_list(\"size\", list), make_list(\"beds\", list), make_list(\"price\", list), .01, 80)"
   ]
  },
  {
   "cell_type": "code",
   "execution_count": 139,
   "metadata": {},
   "outputs": [
    {
     "name": "stdout",
     "output_type": "stream",
     "text": [
      "423591.98230830574\n"
     ]
    }
   ],
   "source": [
    "list1 = []\n",
    "for x in list:\n",
    "    list1.append(int(x[2])) \n",
    "    \n",
    "mean1 = mean(list1)\n",
    "stddev1 = stddev(list1)\n",
    "ting = (2650 - mean1)/stddev1\n",
    "# print(ting)\n",
    "w0 = -9.625869841164925e-17\n",
    "w1 = 0.8833970994532635\n",
    "w2 = -0.05187539919504131\n",
    "x1 = 0.8258928849337579\n",
    "x2 = 1.1022051669412318\n",
    "y = w0 + (w1*x1) + (w2*x2) \n",
    "print((y*stddev1)+mean1)"
   ]
  },
  {
   "cell_type": "code",
   "execution_count": 238,
   "metadata": {},
   "outputs": [],
   "source": [
    "def sgd(x1, x2, y, alpha, iterations):\n",
    "    \n",
    "    w = [0,0,0]\n",
    "    m = len(y)\n",
    "    print(m)\n",
    "    \n",
    "    def fwx(i):\n",
    "        return w[0] + (w[1]*x1[i]) + (w[2]*x2[i]) \n",
    "    \n",
    "    def xj(j,i):\n",
    "        if j == 0:\n",
    "            return 1\n",
    "        elif j == 1:\n",
    "            return x1[i]\n",
    "        elif j == 2:\n",
    "            return x2[i]\n",
    "    \n",
    "    def jwsummation(j):\n",
    "        sum_list = []\n",
    "        for i in range(m):\n",
    "            sum_list.append((fwx(i) - (y[i]))**2)\n",
    "        return sum(sum_list)\n",
    "    \n",
    "    tw = [0, 0, 0]\n",
    "    for l in range(iterations): \n",
    "        if l >= 1:\n",
    "            random.shuffle(x1)\n",
    "            random.shuffle(x2)\n",
    "        for i in range(m):\n",
    "            for j in range(len(w)): \n",
    "                w[j] = w[j] - (alpha * (fwx(i) - (y[i])) * xj(j,i))\n",
    "            w = tw\n",
    "        print(((1/(2*m)) * jwsummation(j)))\n",
    "    return w"
   ]
  },
  {
   "cell_type": "code",
   "execution_count": 239,
   "metadata": {},
   "outputs": [
    {
     "name": "stdout",
     "output_type": "stream",
     "text": [
      "47\n",
      "0.15966150760337477\n",
      "0.48012842364105607\n",
      "0.514374029070678\n"
     ]
    },
    {
     "data": {
      "text/plain": [
       "[-0.06335832556141419, 0.15690163130233434, -0.14901050625814394]"
      ]
     },
     "execution_count": 239,
     "metadata": {},
     "output_type": "execute_result"
    }
   ],
   "source": [
    "sgd(make_list(\"size\", list), make_list(\"beds\", list), make_list(\"price\", list), .05, 3)"
   ]
  }
 ],
 "metadata": {
  "kernelspec": {
   "display_name": "Python 3",
   "language": "python",
   "name": "python3"
  },
  "language_info": {
   "codemirror_mode": {
    "name": "ipython",
    "version": 3
   },
   "file_extension": ".py",
   "mimetype": "text/x-python",
   "name": "python",
   "nbconvert_exporter": "python",
   "pygments_lexer": "ipython3",
   "version": "3.7.2"
  }
 },
 "nbformat": 4,
 "nbformat_minor": 2
}
