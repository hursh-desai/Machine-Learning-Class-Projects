{
 "cells": [
  {
   "cell_type": "code",
   "execution_count": 1,
   "metadata": {},
   "outputs": [],
   "source": [
    "import numpy as np\n",
    "from numpy import linalg as LA\n",
    "import matplotlib.pyplot as plt"
   ]
  },
  {
   "cell_type": "code",
   "execution_count": 2,
   "metadata": {},
   "outputs": [],
   "source": [
    "infile = open('faces.csv','r')\n",
    "img_data = infile.read().strip().split('\\n')\n",
    "img = [map(int,a.strip().split(',')) for a in img_data]\n",
    "pixels = []\n",
    "for p in img:\n",
    "    pixels += p\n",
    "faces = np.reshape(pixels,(400,4096))"
   ]
  },
  {
   "cell_type": "code",
   "execution_count": 3,
   "metadata": {},
   "outputs": [],
   "source": [
    "def normalize(U):\n",
    "    return U / LA.norm(U)"
   ]
  },
  {
   "cell_type": "code",
   "execution_count": 45,
   "metadata": {},
   "outputs": [],
   "source": [
    "faces = np.matrix(faces)\n",
    "mean = np.mean(faces, axis=0)\n",
    "centered = faces-mean\n",
    "\n",
    "\n",
    "A = np.matrix(centered)\n",
    "L = A*A.transpose()\n",
    "\n",
    "evals, evecs = LA.eig(L)\n",
    "\n",
    "idx = np.argsort(evals)[::-1]\n",
    "evecs_sorted = evecs[:,idx]\n",
    "evals_sorted = evals[idx]\n",
    "\n",
    "e_v = []\n",
    "for i in range(len(evecs_sorted)):\n",
    "    e_v.append(A.transpose()*evecs_sorted[:,i])\n",
    "\n",
    "for i in range(len(e_v)):\n",
    "    e_v[i] = normalize(e_v[i])\n",
    "    \n",
    "# print(e_v)\n",
    "\n",
    "zj = np.matrix(np.array(e_v))\n",
    "U = zj.T"
   ]
  },
  {
   "cell_type": "code",
   "execution_count": null,
   "metadata": {},
   "outputs": [],
   "source": [
    "def display(pcs, face):\n",
    "    omega = (U[:,:pcs]).T*(A[face,:]).T\n",
    "    disp = ((U[:,:pcs])*omega) + mean.T\n",
    "    return disp\n",
    "ling = np.reshape(display(50,1),(64,64),order='F')\n",
    "plt.imshow(ling,cmap=plt.cm.gray)"
   ]
  }
 ],
 "metadata": {
  "kernelspec": {
   "display_name": "Python 3",
   "language": "python",
   "name": "python3"
  },
  "language_info": {
   "codemirror_mode": {
    "name": "ipython",
    "version": 3
   },
   "file_extension": ".py",
   "mimetype": "text/x-python",
   "name": "python",
   "nbconvert_exporter": "python",
   "pygments_lexer": "ipython3",
   "version": "3.7.2"
  }
 },
 "nbformat": 4,
 "nbformat_minor": 2
}
